{
 "cells": [
  {
   "cell_type": "code",
   "execution_count": null,
   "id": "df92e2f0",
   "metadata": {},
   "outputs": [],
   "source": [
    "import pandas as pd\n",
    "import seaborn as sns\n",
    "import numpy as np\n",
    "s2022 = pd.read_html(\"https://www.spotrac.com/nba/injured-reserve/\")\n",
    "s2021 = pd.read_html(\"https://www.spotrac.com/nba/injured-reserve/2021\")\n",
    "s2020 = pd.read_html(\"https://www.spotrac.com/nba/injured-reserve/2020\")"
   ]
  },
  {
   "cell_type": "code",
   "execution_count": null,
   "id": "3817b8f3",
   "metadata": {},
   "outputs": [],
   "source": [
    "df2022 = s2022[0]\n",
    "df2022.tail(1)"
   ]
  },
  {
   "cell_type": "code",
   "execution_count": null,
   "id": "736b044d",
   "metadata": {},
   "outputs": [],
   "source": [
    "# too lazy to get all the last rows from the DF lls\n",
    "# got these values from https://journals.plos.org/plosone/article?id=10.1371/journal.pone.0263354#sec005\n",
    "injuries = [306,339,356,392, 374]\n",
    "years = [\"2017-18\", \"2018-19\", \"2019-20\", \"2020-21\", \"2021-22\"]"
   ]
  },
  {
   "cell_type": "code",
   "execution_count": null,
   "id": "90e351c6",
   "metadata": {},
   "outputs": [],
   "source": [
    "s = pd.read_html(\"https://www.basketball-reference.com/leagues/NBA_stats_per_game.html\")\n",
    "br_table = s[0]\n",
    "br_table = br_table.iloc[1:6]\n",
    "br_table.columns = br_table.columns.map(' '.join)\n",
    "br_table"
   ]
  },
  {
   "cell_type": "code",
   "execution_count": null,
   "id": "a797b21a",
   "metadata": {},
   "outputs": [],
   "source": [
    "import seaborn as sns\n",
    "import matplotlib.pyplot as plt\n",
    "fig, ax = plt.subplots()\n",
    "plt.grid()\n",
    "plt.plot(years,injuries, marker='o', color = 'black', markerfacecolor='red', label = \"Injuries\")\n",
    "plt.legend(loc=\"upper left\")\n",
    "fig.set_size_inches(12, 10)\n",
    "plt.title(\"Injuries over the Seasons\")\n",
    "plt.xlabel(\"Seasons\")\n",
    "plt.ylabel(\"Injuries\")\n",
    "for index in range(len(years)):\n",
    "  ax.text(years[index], injuries[index], injuries[index], size=12)\n",
    "plt.show()"
   ]
  },
  {
   "cell_type": "code",
   "execution_count": null,
   "id": "ad7946e2",
   "metadata": {},
   "outputs": [],
   "source": [
    "import seaborn as sns\n",
    "arr = br_table[\"Advanced Pace\"].values\n",
    "pace = arr.astype(np.float64)\n",
    "pace[::-1]\n",
    "fig, ax = plt.subplots()\n",
    "plt.plot(years,injuries, marker='o', color = 'black', markerfacecolor='red', label = \"Injuries\")\n",
    "sns.lineplot(x = years, y = pace)\n",
    "plt.grid()\n",
    "fig.set_size_inches(12, 10)\n",
    "plt.title(\"Injuries over the Seasons\")\n",
    "plt.xlabel(\"Seasons\")\n",
    "plt.ylabel(\"Injuries\")\n",
    "for index in range(len(years)):\n",
    "  ax.text(years[index], pace[index], pace[index], size=12)\n",
    "plt.show()"
   ]
  }
 ],
 "metadata": {
  "kernelspec": {
   "display_name": "Python 3 (ipykernel)",
   "language": "python",
   "name": "python3"
  },
  "language_info": {
   "codemirror_mode": {
    "name": "ipython",
    "version": 3
   },
   "file_extension": ".py",
   "mimetype": "text/x-python",
   "name": "python",
   "nbconvert_exporter": "python",
   "pygments_lexer": "ipython3",
   "version": "3.9.12"
  }
 },
 "nbformat": 4,
 "nbformat_minor": 5
}
